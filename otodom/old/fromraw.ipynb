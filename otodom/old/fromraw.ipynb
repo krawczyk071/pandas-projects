{
 "cells": [
  {
   "cell_type": "code",
   "execution_count": 1,
   "metadata": {},
   "outputs": [],
   "source": [
    "import pandas as pd\n",
    "import numpy as np\n",
    "import unicodedata\n",
    "from utils import Utils,Geolocator\n",
    "# df = pd.read_csv('./input/main_lodz_full20230802-143112.csv',delimiter=';')\n",
    "df = pd.read_csv('./input/main_wawa_full20230808-171401.csv',delimiter=';',encoding='utf-8',encoding_errors='replace')\n"
   ]
  },
  {
   "cell_type": "code",
   "execution_count": 6,
   "metadata": {},
   "outputs": [
    {
     "data": {
      "text/html": [
       "<div>\n",
       "<style scoped>\n",
       "    .dataframe tbody tr th:only-of-type {\n",
       "        vertical-align: middle;\n",
       "    }\n",
       "\n",
       "    .dataframe tbody tr th {\n",
       "        vertical-align: top;\n",
       "    }\n",
       "\n",
       "    .dataframe thead th {\n",
       "        text-align: right;\n",
       "    }\n",
       "</style>\n",
       "<table border=\"1\" class=\"dataframe\">\n",
       "  <thead>\n",
       "    <tr style=\"text-align: right;\">\n",
       "      <th></th>\n",
       "      <th>date</th>\n",
       "      <th>link</th>\n",
       "      <th>name</th>\n",
       "      <th>where</th>\n",
       "      <th>price</th>\n",
       "      <th>perm</th>\n",
       "      <th>rooms</th>\n",
       "      <th>sqm</th>\n",
       "      <th>who</th>\n",
       "    </tr>\n",
       "  </thead>\n",
       "  <tbody>\n",
       "    <tr>\n",
       "      <th>0</th>\n",
       "      <td>20230808</td>\n",
       "      <td>/pl/oferta/dwa-pokoje-na-nowolipkach-ID4kzNA</td>\n",
       "      <td>Dwa pokoje na Nowolipkach</td>\n",
       "      <td>ul. Nowolipki 25B, Nowolipki, Wola, Warszawa, ...</td>\n",
       "      <td>610 000 zł</td>\n",
       "      <td>16 176 zł/m²</td>\n",
       "      <td>2 pokoje</td>\n",
       "      <td>37.71 m²</td>\n",
       "      <td>Oferta prywatna</td>\n",
       "    </tr>\n",
       "    <tr>\n",
       "      <th>1</th>\n",
       "      <td>20230808</td>\n",
       "      <td>/pl/oferta/mieszkanie-warszawa-wilanow-ID4mCoz</td>\n",
       "      <td>Mieszkanie - Warszawa Wilanów</td>\n",
       "      <td>al. Aleja Rzeczypospolitej, Błonia Wilanowskie...</td>\n",
       "      <td>1 250 000 zł</td>\n",
       "      <td>17 007 zł/m²</td>\n",
       "      <td>3 pokoje</td>\n",
       "      <td>73.5 m²</td>\n",
       "      <td>Eurovilla Miasteczko Wilanów Sp. z o. o.Biuro ...</td>\n",
       "    </tr>\n",
       "    <tr>\n",
       "      <th>2</th>\n",
       "      <td>20230808</td>\n",
       "      <td>/pl/oferta/seg-srodkowy-strych-dzialka-taras-b...</td>\n",
       "      <td>Seg. środkowy+strych+działka+ taras+ balkon+garaż</td>\n",
       "      <td>ul. Natalii Gąsiorowskiej, Nowodwory, Białołęk...</td>\n",
       "      <td>950 000 zł</td>\n",
       "      <td>6565 zł/m²</td>\n",
       "      <td>5 pokoi</td>\n",
       "      <td>144.7 m²</td>\n",
       "      <td>DSM DEWELOPMENTInwestycja deweloperska</td>\n",
       "    </tr>\n",
       "    <tr>\n",
       "      <th>3</th>\n",
       "      <td>20230808</td>\n",
       "      <td>/pl/oferta/doskonala-lokalizacja-41-m-w-srodmi...</td>\n",
       "      <td>Doskonala lokalizacja! 41 m² w Śródmieściu, Złota</td>\n",
       "      <td>ul. Złota, Śródmieście Północne, Śródmieście, ...</td>\n",
       "      <td>735 000 zł</td>\n",
       "      <td>17 927 zł/m²</td>\n",
       "      <td>2 pokoje</td>\n",
       "      <td>41 m²</td>\n",
       "      <td>HOMEBiuro nieruchomości</td>\n",
       "    </tr>\n",
       "    <tr>\n",
       "      <th>4</th>\n",
       "      <td>20230808</td>\n",
       "      <td>/pl/oferta/mieszkanie-na-osiedlu-jutrzenki-114...</td>\n",
       "      <td>Mieszkanie na osiedlu Jutrzenki - 114/M030</td>\n",
       "      <td>ul. Jutrzenki, Salomea, Włochy, Warszawa, mazo...</td>\n",
       "      <td>663 000 zł</td>\n",
       "      <td>14 668 zł/m²</td>\n",
       "      <td>2 pokoje</td>\n",
       "      <td>45.2 m²</td>\n",
       "      <td>Oferta prywatna</td>\n",
       "    </tr>\n",
       "  </tbody>\n",
       "</table>\n",
       "</div>"
      ],
      "text/plain": [
       "       date                                               link  \\\n",
       "0  20230808       /pl/oferta/dwa-pokoje-na-nowolipkach-ID4kzNA   \n",
       "1  20230808     /pl/oferta/mieszkanie-warszawa-wilanow-ID4mCoz   \n",
       "2  20230808  /pl/oferta/seg-srodkowy-strych-dzialka-taras-b...   \n",
       "3  20230808  /pl/oferta/doskonala-lokalizacja-41-m-w-srodmi...   \n",
       "4  20230808  /pl/oferta/mieszkanie-na-osiedlu-jutrzenki-114...   \n",
       "\n",
       "                                                name  \\\n",
       "0                          Dwa pokoje na Nowolipkach   \n",
       "1                      Mieszkanie - Warszawa Wilanów   \n",
       "2  Seg. środkowy+strych+działka+ taras+ balkon+garaż   \n",
       "3  Doskonala lokalizacja! 41 m² w Śródmieściu, Złota   \n",
       "4         Mieszkanie na osiedlu Jutrzenki - 114/M030   \n",
       "\n",
       "                                               where         price  \\\n",
       "0  ul. Nowolipki 25B, Nowolipki, Wola, Warszawa, ...    610 000 zł   \n",
       "1  al. Aleja Rzeczypospolitej, Błonia Wilanowskie...  1 250 000 zł   \n",
       "2  ul. Natalii Gąsiorowskiej, Nowodwory, Białołęk...    950 000 zł   \n",
       "3  ul. Złota, Śródmieście Północne, Śródmieście, ...    735 000 zł   \n",
       "4  ul. Jutrzenki, Salomea, Włochy, Warszawa, mazo...    663 000 zł   \n",
       "\n",
       "           perm     rooms       sqm  \\\n",
       "0  16 176 zł/m²  2 pokoje  37.71 m²   \n",
       "1  17 007 zł/m²  3 pokoje   73.5 m²   \n",
       "2    6565 zł/m²   5 pokoi  144.7 m²   \n",
       "3  17 927 zł/m²  2 pokoje     41 m²   \n",
       "4  14 668 zł/m²  2 pokoje   45.2 m²   \n",
       "\n",
       "                                                 who  \n",
       "0                                    Oferta prywatna  \n",
       "1  Eurovilla Miasteczko Wilanów Sp. z o. o.Biuro ...  \n",
       "2             DSM DEWELOPMENTInwestycja deweloperska  \n",
       "3                            HOMEBiuro nieruchomości  \n",
       "4                                    Oferta prywatna  "
      ]
     },
     "execution_count": 6,
     "metadata": {},
     "output_type": "execute_result"
    }
   ],
   "source": [
    "\n",
    "df.head()"
   ]
  },
  {
   "cell_type": "code",
   "execution_count": 3,
   "metadata": {},
   "outputs": [],
   "source": [
    "\n",
    "def type_clasificator(who: str):\n",
    "    who = who.lower()\n",
    "    if 'oferta prywatna' in who:\n",
    "        return 'P'\n",
    "    if 'inwestycja deweloperska' in who:\n",
    "        return 'D'\n",
    "    if 'biuro nieruchomości' in who:\n",
    "        return 'N'\n",
    "    return 'X'"
   ]
  },
  {
   "cell_type": "code",
   "execution_count": 4,
   "metadata": {},
   "outputs": [
    {
     "name": "stdout",
     "output_type": "stream",
     "text": [
      "gps\n",
      "str\n"
     ]
    },
    {
     "data": {
      "text/plain": [
       "(52.3577054,\n",
       " 20.96483073414872,\n",
       " {'house_number': '9',\n",
       "  'road': 'Kibiców',\n",
       "  'quarter': 'Choszczówka',\n",
       "  'suburb': 'Białołęka',\n",
       "  'city': 'Warszawa',\n",
       "  'state': 'województwo mazowieckie',\n",
       "  'ISO3166-2-lvl4': 'PL-14',\n",
       "  'postcode': '03-059',\n",
       "  'country': 'Polska',\n",
       "  'country_code': 'pl'})"
      ]
     },
     "execution_count": 4,
     "metadata": {},
     "output_type": "execute_result"
    }
   ],
   "source": [
    "x= 'ul. Juliusza Ordona, Ulrychów, Wola, Warszawa, mazowieckie'\n",
    "y='Choszczówka, Białołęka, Warszawa, mazowieckie\t'\n",
    "Geolocator.get_geo(y)\n",
    "# Geolocator.geo_bing(x)\n"
   ]
  },
  {
   "cell_type": "code",
   "execution_count": 5,
   "metadata": {},
   "outputs": [
    {
     "data": {
      "text/plain": [
       "(11342, 9)"
      ]
     },
     "metadata": {},
     "output_type": "display_data"
    },
    {
     "data": {
      "text/plain": [
       "(11329, 9)"
      ]
     },
     "execution_count": 5,
     "metadata": {},
     "output_type": "execute_result"
    }
   ],
   "source": [
    "# drop error lines\n",
    "display(df.shape)\n",
    "df=df[df['date'].str.isdigit()]\n",
    "df.shape\n"
   ]
  },
  {
   "cell_type": "code",
   "execution_count": 5,
   "metadata": {},
   "outputs": [],
   "source": [
    "\n",
    "# unicode normalization\n",
    "df['perm'] = df['perm'].fillna('brak').apply(lambda x: unicodedata.normalize('NFKC',x)).replace('brak',np.nan)\n",
    "df['price'] = df['price'].fillna('brak').apply(lambda x: unicodedata.normalize('NFKC',x)).replace('brak',np.nan).str.replace(',','.')\n"
   ]
  },
  {
   "cell_type": "code",
   "execution_count": 6,
   "metadata": {},
   "outputs": [
    {
     "name": "stderr",
     "output_type": "stream",
     "text": [
      "C:\\Users\\krawc\\AppData\\Local\\Temp\\ipykernel_15896\\893869728.py:6: FutureWarning: The default value of regex will change from True to False in a future version. In addition, single character regular expressions will *not* be treated as literal strings when regex=True.\n",
      "  df['rooms'] = df['rooms'].str.replace(r' pokoje| pokoi| pokój','',regex=True).str.replace('+','').astype(int)\n"
     ]
    }
   ],
   "source": [
    "# enrich fields\n",
    "df['link'] = 'http://www.otodom.pl' + df['link']\n",
    "df['sqm'] = df['sqm'].str.replace(' m²','').astype(float)\n",
    "df['perm'] = df['perm'].str.replace('zł/m2','').str.replace('€/m2','').str.replace(' ','').str.replace(',','.').fillna(-1).astype(float).astype(int)\n",
    "df['price'] = df['price'].str.replace('zł','').str.replace('€','').str.replace('Zapytaj o cenę','-1').str.replace(' ','').str.replace(',','.').fillna(-1).astype(float).astype(int)\n",
    "df['rooms'] = df['rooms'].str.replace(r' pokoje| pokoi| pokój','',regex=True).str.replace('+','').astype(int)\n",
    "# add new\n",
    "df['id'] = df['link'].str[-7:]\n",
    "df['type'] = df['who'].apply(type_clasificator)\n",
    "# type adjustment\n",
    "df['date'] = pd.to_datetime(df['date'], format='%Y%m%d')\n",
    "# clean\n",
    "df.replace({'who' : { 'Inwestycja deweloperska' : '', 'Biuro nieruchomości' : '' }}, inplace=True,regex=True)"
   ]
  },
  {
   "cell_type": "code",
   "execution_count": 22,
   "metadata": {},
   "outputs": [
    {
     "ename": "NameError",
     "evalue": "name 'Geolocator' is not defined",
     "output_type": "error",
     "traceback": [
      "\u001b[1;31m---------------------------------------------------------------------------\u001b[0m",
      "\u001b[1;31mNameError\u001b[0m                                 Traceback (most recent call last)",
      "\u001b[1;32mc:\\Users\\krawc\\OneDrive\\Documents\\code\\pythons\\pandas-projects\\otodom\\otodom.ipynb Cell 9\u001b[0m in \u001b[0;36m1\n\u001b[1;32m----> <a href='vscode-notebook-cell:/c%3A/Users/krawc/OneDrive/Documents/code/pythons/pandas-projects/otodom/otodom.ipynb#X10sZmlsZQ%3D%3D?line=0'>1</a>\u001b[0m Geolocator\u001b[39m.\u001b[39mgeolocate_empty(df)\n\u001b[0;32m      <a href='vscode-notebook-cell:/c%3A/Users/krawc/OneDrive/Documents/code/pythons/pandas-projects/otodom/otodom.ipynb#X10sZmlsZQ%3D%3D?line=1'>2</a>\u001b[0m \u001b[39m# 2029-20minut\u001b[39;00m\n",
      "\u001b[1;31mNameError\u001b[0m: name 'Geolocator' is not defined"
     ]
    }
   ],
   "source": [
    "Geolocator.geolocate_empty(df)\n",
    "# 2029-20minut"
   ]
  },
  {
   "cell_type": "code",
   "execution_count": 9,
   "metadata": {},
   "outputs": [
    {
     "data": {
      "text/html": [
       "<div>\n",
       "<style scoped>\n",
       "    .dataframe tbody tr th:only-of-type {\n",
       "        vertical-align: middle;\n",
       "    }\n",
       "\n",
       "    .dataframe tbody tr th {\n",
       "        vertical-align: top;\n",
       "    }\n",
       "\n",
       "    .dataframe thead th {\n",
       "        text-align: right;\n",
       "    }\n",
       "</style>\n",
       "<table border=\"1\" class=\"dataframe\">\n",
       "  <thead>\n",
       "    <tr style=\"text-align: right;\">\n",
       "      <th></th>\n",
       "      <th>date</th>\n",
       "      <th>link</th>\n",
       "      <th>name</th>\n",
       "      <th>where</th>\n",
       "      <th>price</th>\n",
       "      <th>perm</th>\n",
       "      <th>rooms</th>\n",
       "      <th>sqm</th>\n",
       "      <th>who</th>\n",
       "      <th>latitude</th>\n",
       "      <th>longitude</th>\n",
       "      <th>neighbourhood</th>\n",
       "      <th>suburb</th>\n",
       "      <th>postcode</th>\n",
       "      <th>id</th>\n",
       "      <th>type</th>\n",
       "    </tr>\n",
       "  </thead>\n",
       "  <tbody>\n",
       "    <tr>\n",
       "      <th>384</th>\n",
       "      <td>2023-08-08</td>\n",
       "      <td>http://www.otodom.pl/pl/oferta/rezydencja-liws...</td>\n",
       "      <td>Rezydencja Liwska | atrakcyjne mieszkanie M059</td>\n",
       "      <td>ul. Liwska, Bródno, Targówek, Warszawa, mazowi...</td>\n",
       "      <td>-1</td>\n",
       "      <td>-1</td>\n",
       "      <td>2</td>\n",
       "      <td>41.29</td>\n",
       "      <td>LW Development</td>\n",
       "      <td>52.290051</td>\n",
       "      <td>21.017088</td>\n",
       "      <td>Toruńska</td>\n",
       "      <td>Targówek</td>\n",
       "      <td>03-391</td>\n",
       "      <td>ID4e4R9</td>\n",
       "      <td>D</td>\n",
       "    </tr>\n",
       "    <tr>\n",
       "      <th>459</th>\n",
       "      <td>2023-08-08</td>\n",
       "      <td>http://www.otodom.pl/pl/oferta/z-ogodkiem-blis...</td>\n",
       "      <td>Z ogódkiem, blisko Pałacu Stary Wilanów</td>\n",
       "      <td>ul. Obornicka, Wilanów Królewski, Wilanów, War...</td>\n",
       "      <td>3800000</td>\n",
       "      <td>20392</td>\n",
       "      <td>5</td>\n",
       "      <td>186.35</td>\n",
       "      <td>Eurovilla Wilanów Sp. z o.o.</td>\n",
       "      <td>52.170400</td>\n",
       "      <td>21.086009</td>\n",
       "      <td>Stary Wilanów</td>\n",
       "      <td>Wilanów</td>\n",
       "      <td>02-946</td>\n",
       "      <td>ID4meRz</td>\n",
       "      <td>N</td>\n",
       "    </tr>\n",
       "    <tr>\n",
       "      <th>1398</th>\n",
       "      <td>2023-08-08</td>\n",
       "      <td>http://www.otodom.pl/pl/oferta/4-pokojowe-mies...</td>\n",
       "      <td>4-pokojowe mieszkanie 82m2 + balkon Bez Prowizji</td>\n",
       "      <td>ul. Sławińska, Czyste, Wola, Warszawa, mazowie...</td>\n",
       "      <td>1436000</td>\n",
       "      <td>17474</td>\n",
       "      <td>4</td>\n",
       "      <td>82.18</td>\n",
       "      <td>Skanska</td>\n",
       "      <td>52.319869</td>\n",
       "      <td>21.078010</td>\n",
       "      <td>Grodzisk</td>\n",
       "      <td>Białołęka</td>\n",
       "      <td>00-999</td>\n",
       "      <td>ID4lgFd</td>\n",
       "      <td>D</td>\n",
       "    </tr>\n",
       "    <tr>\n",
       "      <th>758</th>\n",
       "      <td>2023-08-08</td>\n",
       "      <td>http://www.otodom.pl/pl/oferta/2-pokojowe-mies...</td>\n",
       "      <td>2-pokojowe mieszkanie 40m2 + balkon Bez Prowizji</td>\n",
       "      <td>ul. Milewska, Pelcowizna, Praga-Północ, Warsza...</td>\n",
       "      <td>-1</td>\n",
       "      <td>-1</td>\n",
       "      <td>2</td>\n",
       "      <td>40.13</td>\n",
       "      <td>GH Development</td>\n",
       "      <td>52.253459</td>\n",
       "      <td>20.898094</td>\n",
       "      <td>Fort Radiowo</td>\n",
       "      <td>Bemowo</td>\n",
       "      <td>01-476</td>\n",
       "      <td>ID4mATK</td>\n",
       "      <td>D</td>\n",
       "    </tr>\n",
       "    <tr>\n",
       "      <th>858</th>\n",
       "      <td>2023-08-08</td>\n",
       "      <td>http://www.otodom.pl/pl/oferta/2-pokojowe-mies...</td>\n",
       "      <td>2-pokojowe mieszkanie 39m2 + balkon Bezpośrednio</td>\n",
       "      <td>ul. Pawła Włodkowica, Brzeziny, Białołęka, War...</td>\n",
       "      <td>-1</td>\n",
       "      <td>-1</td>\n",
       "      <td>2</td>\n",
       "      <td>39.07</td>\n",
       "      <td>Victoria Dom</td>\n",
       "      <td>52.309160</td>\n",
       "      <td>21.025184</td>\n",
       "      <td>Białołęka Szlachecka</td>\n",
       "      <td>Białołęka</td>\n",
       "      <td>03-235</td>\n",
       "      <td>ID4mARN</td>\n",
       "      <td>D</td>\n",
       "    </tr>\n",
       "  </tbody>\n",
       "</table>\n",
       "</div>"
      ],
      "text/plain": [
       "           date                                               link  \\\n",
       "384  2023-08-08  http://www.otodom.pl/pl/oferta/rezydencja-liws...   \n",
       "459  2023-08-08  http://www.otodom.pl/pl/oferta/z-ogodkiem-blis...   \n",
       "1398 2023-08-08  http://www.otodom.pl/pl/oferta/4-pokojowe-mies...   \n",
       "758  2023-08-08  http://www.otodom.pl/pl/oferta/2-pokojowe-mies...   \n",
       "858  2023-08-08  http://www.otodom.pl/pl/oferta/2-pokojowe-mies...   \n",
       "\n",
       "                                                  name  \\\n",
       "384     Rezydencja Liwska | atrakcyjne mieszkanie M059   \n",
       "459            Z ogódkiem, blisko Pałacu Stary Wilanów   \n",
       "1398  4-pokojowe mieszkanie 82m2 + balkon Bez Prowizji   \n",
       "758   2-pokojowe mieszkanie 40m2 + balkon Bez Prowizji   \n",
       "858   2-pokojowe mieszkanie 39m2 + balkon Bezpośrednio   \n",
       "\n",
       "                                                  where    price   perm  \\\n",
       "384   ul. Liwska, Bródno, Targówek, Warszawa, mazowi...       -1     -1   \n",
       "459   ul. Obornicka, Wilanów Królewski, Wilanów, War...  3800000  20392   \n",
       "1398  ul. Sławińska, Czyste, Wola, Warszawa, mazowie...  1436000  17474   \n",
       "758   ul. Milewska, Pelcowizna, Praga-Północ, Warsza...       -1     -1   \n",
       "858   ul. Pawła Włodkowica, Brzeziny, Białołęka, War...       -1     -1   \n",
       "\n",
       "      rooms     sqm                           who   latitude  longitude  \\\n",
       "384       2   41.29                LW Development  52.290051  21.017088   \n",
       "459       5  186.35  Eurovilla Wilanów Sp. z o.o.  52.170400  21.086009   \n",
       "1398      4   82.18                       Skanska  52.319869  21.078010   \n",
       "758       2   40.13                GH Development  52.253459  20.898094   \n",
       "858       2   39.07                  Victoria Dom  52.309160  21.025184   \n",
       "\n",
       "             neighbourhood     suburb postcode       id type  \n",
       "384               Toruńska   Targówek   03-391  ID4e4R9    D  \n",
       "459          Stary Wilanów    Wilanów   02-946  ID4meRz    N  \n",
       "1398              Grodzisk  Białołęka   00-999  ID4lgFd    D  \n",
       "758           Fort Radiowo     Bemowo   01-476  ID4mATK    D  \n",
       "858   Białołęka Szlachecka  Białołęka   03-235  ID4mARN    D  "
      ]
     },
     "execution_count": 9,
     "metadata": {},
     "output_type": "execute_result"
    }
   ],
   "source": [
    "\n",
    "df.sample(5)"
   ]
  },
  {
   "cell_type": "code",
   "execution_count": 10,
   "metadata": {},
   "outputs": [],
   "source": [
    "# Export\n",
    "df.to_csv('./out2.csv',sep=';',index=False)"
   ]
  },
  {
   "cell_type": "code",
   "execution_count": null,
   "metadata": {},
   "outputs": [],
   "source": [
    "# export list dla brakujacych adresow\n"
   ]
  }
 ],
 "metadata": {
  "kernelspec": {
   "display_name": "Python 3",
   "language": "python",
   "name": "python3"
  },
  "language_info": {
   "codemirror_mode": {
    "name": "ipython",
    "version": 3
   },
   "file_extension": ".py",
   "mimetype": "text/x-python",
   "name": "python",
   "nbconvert_exporter": "python",
   "pygments_lexer": "ipython3",
   "version": "3.11.0"
  },
  "orig_nbformat": 4
 },
 "nbformat": 4,
 "nbformat_minor": 2
}
