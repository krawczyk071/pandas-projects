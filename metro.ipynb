{
 "cells": [
  {
   "cell_type": "code",
   "execution_count": 1,
   "metadata": {},
   "outputs": [],
   "source": [
    "m1= {\n",
    " 'Młociny':0,\n",
    " 'Wawrzyszew':2,\n",
    " 'Stare Bielany':4,\n",
    " 'Słodowiec':6,\n",
    " 'Marymont':7,\n",
    " 'Plac Wilsona':9,\n",
    " 'Dworzec Gdański':12,\n",
    " 'Ratusz Arsenał':15,\n",
    " 'Świętokrzyska':17,\n",
    " 'Centrum':18,\n",
    " 'Politechnika':21,\n",
    " 'Pole Mokotowskie':22,\n",
    " 'Racławicka':24,\n",
    " 'Wierzbno':26,\n",
    " 'Wilanowska':27,\n",
    " 'Służew':29,\n",
    " 'Ursynów':31,\n",
    " 'Stokłosy':33,\n",
    " 'Imielin':35,\n",
    " 'Natolin':37,\n",
    " 'Kabaty':39,\n",
    " }\n",
    "m2={\n",
    " 'Bemowo':0,\n",
    " 'Ulrychów':2,\n",
    " 'Księcia Janusza':4,\n",
    " 'Młynów':6,\n",
    " 'Płocka':8,\n",
    " 'Rondo Daszyńskiego':9,\n",
    " 'Rondo ONZ':11,\n",
    " 'Świętokrzyska':13,\n",
    " 'Nowy Świat-Uniwersytet':15,\n",
    " 'Centrum Nauki Kopernik':17,\n",
    " 'Stadion Narodowy':19,\n",
    " 'Dworzec Wileński':21,\n",
    " 'Szwedzka':23,\n",
    " 'Targówek Mieszkaniowy':25,\n",
    " 'Trocka':27,\n",
    " 'Zacisze':29,\n",
    " 'Kondratowicza':31,\n",
    " 'Bródno':33,\n",
    " }"
   ]
  },
  {
   "cell_type": "code",
   "execution_count": 41,
   "metadata": {},
   "outputs": [
    {
     "data": {
      "text/plain": [
       "{'Młociny': 17,\n",
       " 'Wawrzyszew': 15,\n",
       " 'Stare Bielany': 13,\n",
       " 'Słodowiec': 11,\n",
       " 'Marymont': 10,\n",
       " 'Plac Wilsona': 8,\n",
       " 'Dworzec Gdański': 5,\n",
       " 'Ratusz Arsenał': 2,\n",
       " 'Świętokrzyska': 0,\n",
       " 'Centrum': 1,\n",
       " 'Politechnika': 4,\n",
       " 'Pole Mokotowskie': 5,\n",
       " 'Racławicka': 7,\n",
       " 'Wierzbno': 9,\n",
       " 'Wilanowska': 10,\n",
       " 'Służew': 12,\n",
       " 'Ursynów': 14,\n",
       " 'Stokłosy': 16,\n",
       " 'Imielin': 18,\n",
       " 'Natolin': 20,\n",
       " 'Kabaty': 22}"
      ]
     },
     "metadata": {},
     "output_type": "display_data"
    },
    {
     "data": {
      "text/plain": [
       "{'Bemowo': 13,\n",
       " 'Ulrychów': 11,\n",
       " 'Księcia Janusza': 9,\n",
       " 'Młynów': 7,\n",
       " 'Płocka': 5,\n",
       " 'Rondo Daszyńskiego': 4,\n",
       " 'Rondo ONZ': 2,\n",
       " 'Świętokrzyska': 0,\n",
       " 'Nowy Świat-Uniwersytet': 2,\n",
       " 'Centrum Nauki Kopernik': 4,\n",
       " 'Stadion Narodowy': 6,\n",
       " 'Dworzec Wileński': 8,\n",
       " 'Szwedzka': 10,\n",
       " 'Targówek Mieszkaniowy': 12,\n",
       " 'Trocka': 14,\n",
       " 'Zacisze': 16,\n",
       " 'Kondratowicza': 18,\n",
       " 'Bródno': 20}"
      ]
     },
     "execution_count": 41,
     "metadata": {},
     "output_type": "execute_result"
    }
   ],
   "source": [
    "m1_s={k:abs(v-17) for k,v in m1.items()}\n",
    "m2_s={k:abs(v-13) for k,v in m2.items()}\n",
    "display(m1_s)\n",
    "m2_s"
   ]
  },
  {
   "cell_type": "code",
   "execution_count": 13,
   "metadata": {},
   "outputs": [],
   "source": [
    "import sys\n",
    "sys.path.insert(1, 'otodom/')\n",
    "from utils import Geolocator,Nominatim"
   ]
  },
  {
   "cell_type": "code",
   "execution_count": 62,
   "metadata": {},
   "outputs": [],
   "source": [
    "\n",
    "def short_nominatim(adr):\n",
    "    n =Nominatim(user_agent='abc')\n",
    "    return n.geocode(query=adr, country_codes='pl', exactly_one=True, addressdetails=True)\n",
    "def metro_nominatim(adr):\n",
    "    n =Nominatim(user_agent='abc')\n",
    "    lista= n.geocode(query=adr, country_codes='pl', exactly_one=False, addressdetails=True)\n",
    "    try:\n",
    "        return [*filter(lambda x: (x.address).lower().startswith('metro'),lista)][0]\n",
    "    except:\n",
    "        'brak'"
   ]
  },
  {
   "cell_type": "code",
   "execution_count": 59,
   "metadata": {},
   "outputs": [
    {
     "data": {
      "text/plain": [
       "'Metro Bródno, Ludwika Kondratowicza, Toruńska, Bródno, Targówek, Warszawa, województwo mazowieckie, 03-362, Polska'"
      ]
     },
     "execution_count": 59,
     "metadata": {},
     "output_type": "execute_result"
    }
   ],
   "source": [
    "short_nominatim('Metro Bródno')"
   ]
  },
  {
   "cell_type": "code",
   "execution_count": 63,
   "metadata": {},
   "outputs": [],
   "source": [
    "stacje = list(set([*m1.keys()]+[*m2.keys()]))\n",
    "stacje_gps = [metro_nominatim(f'Metro {x}') for x in stacje]"
   ]
  },
  {
   "cell_type": "code",
   "execution_count": 64,
   "metadata": {},
   "outputs": [
    {
     "data": {
      "text/plain": [
       "[Location(Metro Natolin, Pasaż Natoliński, Wysoki Ursynów, Natolin, Ursynów, Warszawa, województwo mazowieckie, 02-791, Polska, (52.1403512, 21.0568364, 0.0)),\n",
       " Location(Metro Księcia Janusza, Księcia Janusza, Koło-Górczewska, Koło, Wola, Warszawa, województwo mazowieckie, 01-449, Polska, (52.2396831, 20.9421559, 0.0)),\n",
       " None,\n",
       " Location(Metro Plac Wilsona, Juliusza Słowackiego, Żoliborz Spółdzielczy, Stary Żoliborz, Żoliborz, Warszawa, województwo mazowieckie, 01-626, Polska, (52.2692842, 20.9838197, 0.0)),\n",
       " None,\n",
       " Location(Metro Rondo Daszyńskiego, Prosta, Czyste, Wola, Warszawa, województwo mazowieckie, 00-838, Polska, (52.2297384, 20.983269822151897, 0.0)),\n",
       " Location(Metro Stadion Narodowy, Jana Zamoyskiego, Port Praski, Stara Praga, Praga-Północ, Warszawa, województwo mazowieckie, 03-722, Polska, (52.2473471, 21.0427048, 0.0)),\n",
       " Location(Metro Dworzec Gdański, Zygmunta Słomińskiego, Osiedle Prezydenckie, Muranów, Śródmieście, Warszawa, województwo mazowieckie, 00-204, Polska, (52.25754405, 20.994528439064872, 0.0)),\n",
       " Location(Metro Świętokrzyska, Marszałkowska, Centrum, Śródmieście Północne, Śródmieście, Warszawa, województwo mazowieckie, 00-017, Polska, (52.2348666, 21.0089823, 0.0)),\n",
       " Location(Metro Kabaty, Wąwozowa, Wysoki Ursynów, Kabaty, Ursynów, Warszawa, województwo mazowieckie, 02-798, Polska, (52.13104665, 21.065517815265476, 0.0)),\n",
       " Location(Metro Młynów 01, Górczewska, Ulrychów, Wola, Warszawa, województwo mazowieckie, 01-404, Polska, (52.2376731, 20.9572905, 0.0)),\n",
       " Location(Metro Zacisze, Figara, Zacisze, Targówek, Warszawa, województwo mazowieckie, 03-604, Polska, (52.2834377, 21.0622489, 0.0)),\n",
       " Location(Metro Bemowo, Górczewska, Osiedle Górce Nowe, Górce, Bemowo, Warszawa, województwo mazowieckie, 01-459, Polska, (52.239638, 20.913657, 0.0)),\n",
       " None,\n",
       " Location(Metro Szwedzka, Strzelecka, Nowa Praga, Praga-Północ, Warszawa, województwo mazowieckie, 03-429, Polska, (52.2633186, 21.0461914, 0.0)),\n",
       " Location(Metro Nowy Świat - Uniwersytet, Świętokrzyska, Centrum, Śródmieście Północne, Śródmieście, Warszawa, województwo mazowieckie, 00-356, Polska, (52.2368597, 21.017527, 0.0)),\n",
       " None,\n",
       " None,\n",
       " Location(Metro Centrum Nauki Kopernik, Centrum Nauki Kopernik, Powiśle, Śródmieście, Warszawa, województwo mazowieckie, 00-390, Polska, (52.2396304, 21.0312341, 0.0)),\n",
       " Location(Metro Służew, Wałbrzyska, Służew nad Dolinką, Służew, Mokotów, Warszawa, województwo mazowieckie, 02-739, Polska, (52.1732466, 21.0257137, 0.0)),\n",
       " Location(Metro Stare Bielany, Jana Kasprowicza, Bielany I, Stare Bielany, Bielany, Warszawa, województwo mazowieckie, 01-836, Polska, (52.281608, 20.9498193, 0.0)),\n",
       " Location(Metro Centrum, Patelnia, Centrum, Śródmieście Północne, Śródmieście, Warszawa, województwo mazowieckie, 00-692, Polska, (52.2299714, 21.010779, 0.0)),\n",
       " Location(Metro Młociny, Tomasza Nocznickiego, Huta, Bielany, Warszawa, województwo mazowieckie, 01-948, Polska, (52.2909257, 20.9296457, 0.0)),\n",
       " None,\n",
       " Location(Metro Racławicka, Aleja Niepodległości, Osiedle WSM Mokotów, Stary Mokotów, Mokotów, Warszawa, województwo mazowieckie, 02-585, Polska, (52.1993449, 21.0122269, 0.0)),\n",
       " Location(Metro Stokłosy, Aleja Komisji Edukacji Narodowej, Wysoki Ursynów, Ursynów Północny, Ursynów, Warszawa, województwo mazowieckie, 02-722, Polska, (52.1568489, 21.0338382, 0.0)),\n",
       " Location(Metro Wilanowska, Aleja Wilanowska, Szopy Polskie, Ksawerów, Mokotów, Warszawa, województwo mazowieckie, 02-725, Polska, (52.179845, 21.023715285884354, 0.0)),\n",
       " Location(Metro Trocka, Unicka, Targówek Mieszkaniowy, Targówek, Warszawa, województwo mazowieckie, 03-563, Polska, (52.2757488, 21.0561751, 0.0)),\n",
       " Location(Metro Wawrzyszew, Rondo Hutników Warszawskich, Wrzeciono, Bielany, Warszawa, województwo mazowieckie, 01-952, Polska, (52.2858639, 20.9406427, 0.0)),\n",
       " Location(Metro Kondratowicza, Ludwika Kondratowicza, Kondratowicza, Bródno, Targówek, Warszawa, województwo mazowieckie, 03-285, Polska, (52.2917232, 21.0482879, 0.0)),\n",
       " Location(Metro Bródno, Ludwika Kondratowicza, Toruńska, Bródno, Targówek, Warszawa, województwo mazowieckie, 03-362, Polska, (52.293957, 21.0272575, 0.0)),\n",
       " None,\n",
       " Location(Metro Imielin, Aleja Komisji Edukacji Narodowej, Imielin, Ursynów Centrum, Ursynów, Warszawa, województwo mazowieckie, 02-778, Polska, (52.1492006, 21.0454755, 0.0)),\n",
       " Location(Metro Dworzec Wileński, Białostocka, Stara Praga, Praga-Północ, Warszawa, województwo mazowieckie, 03-734, Polska, (52.2537893, 21.035790597838186, 0.0)),\n",
       " Location(Metro Targówek Mieszkaniowy, Michała Ossowskiego, Targówek Mieszkaniowy, Targówek, Warszawa, województwo mazowieckie, 03-511, Polska, (52.2697779, 21.0512809, 0.0)),\n",
       " Location(Metro Marymont, Sady V, Sady Żoliborskie, Żoliborz, Warszawa, województwo mazowieckie, 01-690, Polska, (52.271435, 20.9678315, 0.0)),\n",
       " Location(Metro Ulrychów, Górczewska, Osiedle Mszczonowska, Ulrychów, Wola, Warszawa, województwo mazowieckie, 01-458, Polska, (52.2401266, 20.9313402, 0.0)),\n",
       " Location(Metro Wierzbno, Aleja Niepodległości, Osiedle Domaniewska, Ksawerów, Mokotów, Warszawa, województwo mazowieckie, 02-625, Polska, (52.1888309, 21.0176429, 0.0))]"
      ]
     },
     "execution_count": 64,
     "metadata": {},
     "output_type": "execute_result"
    }
   ],
   "source": [
    "stacje_gps\n"
   ]
  },
  {
   "cell_type": "code",
   "execution_count": 67,
   "metadata": {},
   "outputs": [],
   "source": [
    "stacje_gps = [short_nominatim(f'subway {x}') for x in stacje]"
   ]
  },
  {
   "cell_type": "code",
   "execution_count": 69,
   "metadata": {},
   "outputs": [
    {
     "data": {
      "text/plain": [
       "38"
      ]
     },
     "execution_count": 69,
     "metadata": {},
     "output_type": "execute_result"
    }
   ],
   "source": [
    "len(stacje)"
   ]
  }
 ],
 "metadata": {
  "kernelspec": {
   "display_name": "Python 3",
   "language": "python",
   "name": "python3"
  },
  "language_info": {
   "codemirror_mode": {
    "name": "ipython",
    "version": 3
   },
   "file_extension": ".py",
   "mimetype": "text/x-python",
   "name": "python",
   "nbconvert_exporter": "python",
   "pygments_lexer": "ipython3",
   "version": "3.11.0"
  },
  "orig_nbformat": 4
 },
 "nbformat": 4,
 "nbformat_minor": 2
}
