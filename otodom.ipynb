{
 "cells": [
  {
   "cell_type": "code",
   "execution_count": 2,
   "metadata": {},
   "outputs": [],
   "source": [
    "import pandas as pd\n",
    "import unicodedata\n",
    "import numpy as np\n",
    "from geopy.geocoders import Nominatim\n",
    "\n",
    "df = pd.read_csv('./input/main_lodz_full20230802-143112.csv',delimiter=';')\n"
   ]
  },
  {
   "cell_type": "code",
   "execution_count": 118,
   "metadata": {},
   "outputs": [],
   "source": [
    "def type_clasificator(who:str):\n",
    "    who = who.lower()\n",
    "    if 'oferta prywatna' in who:\n",
    "        return 'P'\n",
    "    if 'inwestycja deweloperska' in who:\n",
    "        return 'D'\n",
    "    if 'biuro nieruchomości' in who:\n",
    "        return 'N'\n",
    "    return 'X'\n",
    "\n"
   ]
  },
  {
   "cell_type": "code",
   "execution_count": 119,
   "metadata": {},
   "outputs": [
    {
     "data": {
      "text/html": [
       "<div>\n",
       "<style scoped>\n",
       "    .dataframe tbody tr th:only-of-type {\n",
       "        vertical-align: middle;\n",
       "    }\n",
       "\n",
       "    .dataframe tbody tr th {\n",
       "        vertical-align: top;\n",
       "    }\n",
       "\n",
       "    .dataframe thead th {\n",
       "        text-align: right;\n",
       "    }\n",
       "</style>\n",
       "<table border=\"1\" class=\"dataframe\">\n",
       "  <thead>\n",
       "    <tr style=\"text-align: right;\">\n",
       "      <th></th>\n",
       "      <th>date</th>\n",
       "      <th>link</th>\n",
       "      <th>name</th>\n",
       "      <th>where</th>\n",
       "      <th>price</th>\n",
       "      <th>perm</th>\n",
       "      <th>rooms</th>\n",
       "      <th>sqm</th>\n",
       "      <th>who</th>\n",
       "    </tr>\n",
       "  </thead>\n",
       "  <tbody>\n",
       "    <tr>\n",
       "      <th>0</th>\n",
       "      <td>20230802</td>\n",
       "      <td>/pl/oferta/mieszkanie-54-m-lodz-ID4mkSG</td>\n",
       "      <td>Mieszkanie, 54 m², Łódź</td>\n",
       "      <td>Mileszki, Widzew, Łódź, łódzkie</td>\n",
       "      <td>420 000 zł</td>\n",
       "      <td>7778 zł/m²</td>\n",
       "      <td>2 pokoje</td>\n",
       "      <td>54 m²</td>\n",
       "      <td>Oferta prywatna</td>\n",
       "    </tr>\n",
       "    <tr>\n",
       "      <th>1</th>\n",
       "      <td>20230802</td>\n",
       "      <td>/pl/oferta/3-pokojowe-mieszkanie-72m2-balkon-b...</td>\n",
       "      <td>3-pokojowe mieszkanie 72m2 + balkon Bezpośrednio</td>\n",
       "      <td>ul. Mania, Zdrowie, Polesie, Łódź, łódzkie</td>\n",
       "      <td>Zapytaj o cenę</td>\n",
       "      <td>NaN</td>\n",
       "      <td>3 pokoje</td>\n",
       "      <td>72.39 m²</td>\n",
       "      <td>Esembla GroupInwestycja deweloperska</td>\n",
       "    </tr>\n",
       "    <tr>\n",
       "      <th>2</th>\n",
       "      <td>20230802</td>\n",
       "      <td>/pl/oferta/2-pokojowe-mieszkanie-38m2-balkon-I...</td>\n",
       "      <td>2-pokojowe mieszkanie 38m2 + balkon</td>\n",
       "      <td>ul. Mania, Zdrowie, Polesie, Łódź, łódzkie</td>\n",
       "      <td>Zapytaj o cenę</td>\n",
       "      <td>NaN</td>\n",
       "      <td>2 pokoje</td>\n",
       "      <td>38.99 m²</td>\n",
       "      <td>Esembla GroupInwestycja deweloperska</td>\n",
       "    </tr>\n",
       "    <tr>\n",
       "      <th>3</th>\n",
       "      <td>20230802</td>\n",
       "      <td>/pl/oferta/3-pokojowe-mieszkanie-46m2-balkon-I...</td>\n",
       "      <td>3-pokojowe mieszkanie 46m2 + balkon</td>\n",
       "      <td>ul. Hipoteczna, Stare Bałuty, Bałuty, Łódź, łó...</td>\n",
       "      <td>Zapytaj o cenę</td>\n",
       "      <td>NaN</td>\n",
       "      <td>3 pokoje</td>\n",
       "      <td>46.42 m²</td>\n",
       "      <td>Maxbud NoveoInwestycja deweloperska</td>\n",
       "    </tr>\n",
       "    <tr>\n",
       "      <th>4</th>\n",
       "      <td>20230802</td>\n",
       "      <td>/pl/oferta/4-pokojowe-mieszkanie-75m2-3-balkon...</td>\n",
       "      <td>4-pokojowe mieszkanie 75m2 + 3 balkony</td>\n",
       "      <td>ul. Hipoteczna, Stare Bałuty, Bałuty, Łódź, łó...</td>\n",
       "      <td>Zapytaj o cenę</td>\n",
       "      <td>NaN</td>\n",
       "      <td>4 pokoje</td>\n",
       "      <td>75.45 m²</td>\n",
       "      <td>Maxbud NoveoInwestycja deweloperska</td>\n",
       "    </tr>\n",
       "  </tbody>\n",
       "</table>\n",
       "</div>"
      ],
      "text/plain": [
       "       date                                               link  \\\n",
       "0  20230802            /pl/oferta/mieszkanie-54-m-lodz-ID4mkSG   \n",
       "1  20230802  /pl/oferta/3-pokojowe-mieszkanie-72m2-balkon-b...   \n",
       "2  20230802  /pl/oferta/2-pokojowe-mieszkanie-38m2-balkon-I...   \n",
       "3  20230802  /pl/oferta/3-pokojowe-mieszkanie-46m2-balkon-I...   \n",
       "4  20230802  /pl/oferta/4-pokojowe-mieszkanie-75m2-3-balkon...   \n",
       "\n",
       "                                               name  \\\n",
       "0                           Mieszkanie, 54 m², Łódź   \n",
       "1  3-pokojowe mieszkanie 72m2 + balkon Bezpośrednio   \n",
       "2               2-pokojowe mieszkanie 38m2 + balkon   \n",
       "3               3-pokojowe mieszkanie 46m2 + balkon   \n",
       "4            4-pokojowe mieszkanie 75m2 + 3 balkony   \n",
       "\n",
       "                                               where           price  \\\n",
       "0                    Mileszki, Widzew, Łódź, łódzkie      420 000 zł   \n",
       "1         ul. Mania, Zdrowie, Polesie, Łódź, łódzkie  Zapytaj o cenę   \n",
       "2         ul. Mania, Zdrowie, Polesie, Łódź, łódzkie  Zapytaj o cenę   \n",
       "3  ul. Hipoteczna, Stare Bałuty, Bałuty, Łódź, łó...  Zapytaj o cenę   \n",
       "4  ul. Hipoteczna, Stare Bałuty, Bałuty, Łódź, łó...  Zapytaj o cenę   \n",
       "\n",
       "         perm     rooms       sqm                                   who  \n",
       "0  7778 zł/m²  2 pokoje     54 m²                       Oferta prywatna  \n",
       "1         NaN  3 pokoje  72.39 m²  Esembla GroupInwestycja deweloperska  \n",
       "2         NaN  2 pokoje  38.99 m²  Esembla GroupInwestycja deweloperska  \n",
       "3         NaN  3 pokoje  46.42 m²   Maxbud NoveoInwestycja deweloperska  \n",
       "4         NaN  4 pokoje  75.45 m²   Maxbud NoveoInwestycja deweloperska  "
      ]
     },
     "execution_count": 119,
     "metadata": {},
     "output_type": "execute_result"
    }
   ],
   "source": [
    "df.head()\n"
   ]
  },
  {
   "cell_type": "code",
   "execution_count": 120,
   "metadata": {},
   "outputs": [],
   "source": [
    "# unicode normalization\n",
    "df['perm'] = df['perm'].fillna('brak').apply(lambda x: unicodedata.normalize('NFKC',x)).replace('brak',np.nan)\n",
    "df['price'] = df['price'].fillna('brak').apply(lambda x: unicodedata.normalize('NFKC',x)).replace('brak',np.nan).str.replace(',','.')\n"
   ]
  },
  {
   "cell_type": "code",
   "execution_count": 121,
   "metadata": {},
   "outputs": [
    {
     "name": "stderr",
     "output_type": "stream",
     "text": [
      "C:\\Users\\krawc\\AppData\\Local\\Temp\\ipykernel_224\\2400223606.py:6: FutureWarning: The default value of regex will change from True to False in a future version. In addition, single character regular expressions will *not* be treated as literal strings when regex=True.\n",
      "  df['rooms'] = df['rooms'].str.replace(r' pokoje| pokoi| pokój','',regex=True).str.replace('+','').astype(int)\n"
     ]
    }
   ],
   "source": [
    "# enrich fields\n",
    "df['link'] = 'http://www.otodom.pl' + df['link']\n",
    "df['sqm'] = df['sqm'].str.replace(' m²','').astype(float)\n",
    "df['perm'] = df['perm'].str.replace('zł/m2','').str.replace(' ','').fillna(-1).astype(int)\n",
    "df['price'] = df['price'].str.replace('zł','').str.replace('Zapytaj o cenę','-1').str.replace(' ','').fillna(-1).astype(float).astype(int)\n",
    "df['rooms'] = df['rooms'].str.replace(r' pokoje| pokoi| pokój','',regex=True).str.replace('+','').astype(int)\n",
    "# add new\n",
    "df['id'] = df['link'].str[-7:]\n",
    "df['type'] = df['who'].apply(type_clasificator)\n",
    "# type adjustment\n",
    "df['date'] = pd.to_datetime(df['date'], format='%Y%m%d')\n",
    "# clean\n",
    "df.replace({'who' : { 'Inwestycja deweloperska' : '', 'Biuro nieruchomości' : '' }}, inplace=True,regex=True)"
   ]
  },
  {
   "cell_type": "code",
   "execution_count": 3,
   "metadata": {},
   "outputs": [],
   "source": [
    "#Geolocation\n",
    "geolocator = Nominatim(user_agent=\"http\")\n",
    "\n",
    "def geolocate(adress:str):\n",
    "    try:\n",
    "        adress = adress.lower().replace('ul.','')\n",
    "        nominatim = geolocator.geocode(adress,country_codes='pl',exactly_one=True)\n",
    "        return (nominatim.latitude,nominatim.longitude)\n",
    "    except:\n",
    "        pass\n",
    "\n",
    "# df['geo'] = df['where'].apply(geolocate)"
   ]
  },
  {
   "cell_type": "code",
   "execution_count": 43,
   "metadata": {},
   "outputs": [],
   "source": [
    "ex= 'Mania, Zdrowie, Polesie, Łódź, łódzkie'\n",
    "rr= 'ul. Hipoteczna, Stare Bałuty, Bałuty, Łódź, łódzkie'\n",
    "oto=rr.split(',')\n",
    "x= geolocator.geocode(ex,country_codes='pl',exactly_one=True)\n",
    "x\n",
    "def after_dot(string:str):\n",
    "    return string[string.find('.')+1:]\n",
    "\n",
    "query_dict = {'street':after_dot(oto[0]),\n",
    "'city':oto[-2],\n",
    "'county':oto[-3],\n",
    "'state':oto[-1],\n",
    "'country':'pl'}\n",
    "y= geolocator.geocode(query_dict,country_codes='pl',exactly_one=True)"
   ]
  },
  {
   "cell_type": "code",
   "execution_count": 11,
   "metadata": {},
   "outputs": [
    {
     "data": {
      "text/plain": [
       "'Mania, Zdrowie-Mania, Łódź-Polesie, Łódź, województwo łódzkie, 94-248, Polska'"
      ]
     },
     "execution_count": 11,
     "metadata": {},
     "output_type": "execute_result"
    }
   ],
   "source": [
    "x.raw['display_name']"
   ]
  },
  {
   "cell_type": "code",
   "execution_count": 46,
   "metadata": {},
   "outputs": [
    {
     "data": {
      "text/plain": [
       "'Hipoteczna, Berlinek, Bałuty-Centrum, Łódź-Bałuty, Łódź, województwo łódzkie, 91-338, Polska'"
      ]
     },
     "execution_count": 46,
     "metadata": {},
     "output_type": "execute_result"
    }
   ],
   "source": [
    "\n",
    "location_string = y.raw['display_name'].split(', ')\n",
    "names=['ulica','osiedle','rejon','dzielnica','miasto','wojewodztwo','kod','kraj']\n"
   ]
  }
 ],
 "metadata": {
  "kernelspec": {
   "display_name": "Python 3",
   "language": "python",
   "name": "python3"
  },
  "language_info": {
   "codemirror_mode": {
    "name": "ipython",
    "version": 3
   },
   "file_extension": ".py",
   "mimetype": "text/x-python",
   "name": "python",
   "nbconvert_exporter": "python",
   "pygments_lexer": "ipython3",
   "version": "3.11.0"
  },
  "orig_nbformat": 4
 },
 "nbformat": 4,
 "nbformat_minor": 2
}
